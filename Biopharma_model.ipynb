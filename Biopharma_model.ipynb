{
 "cells": [
  {
   "cell_type": "code",
   "execution_count": 38,
   "metadata": {
    "ExecuteTime": {
     "end_time": "2023-09-05T00:28:29.599912461Z",
     "start_time": "2023-09-05T00:28:29.581506043Z"
    }
   },
   "outputs": [],
   "source": [
    "import numpy as np\n",
    "import pandas as pd\n",
    "import matplotlib.pyplot as plt\n",
    "from rdkit import Chem\n",
    "from sklearn.model_selection import train_test_split\n",
    "from sklearn.metrics import mean_absolute_error, mean_squared_error, r2_score\n",
    "import torch\n",
    "import torch.nn as nn\n",
    "from torch.utils.data import Dataset, DataLoader\n",
    "from torch.nn import BCELoss, MSELoss, L1Loss\n",
    "import torch.optim as optim\n",
    "from tqdm import tqdm"
   ],
   "id": "36ebcba5a09633be"
  },
  {
   "cell_type": "code",
   "execution_count": 16,
   "metadata": {
    "ExecuteTime": {
     "end_time": "2023-09-04T23:57:03.595451897Z",
     "start_time": "2023-09-04T23:57:03.318639073Z"
    }
   },
   "outputs": [
    {
     "data": {
      "text/plain": "  Molecule ChEMBL ID Molecule Name  Molecule Max Phase  Molecular Weight  \\\n0       CHEMBL205876           NaN                 NaN            361.83   \n1       CHEMBL201090           NaN                 NaN            406.39   \n2       CHEMBL202196           NaN                 NaN            338.37   \n3       CHEMBL201463           NaN                 NaN            392.41   \n4       CHEMBL372944           NaN                 NaN            339.35   \n\n   #RO5 Violations  AlogP Compound Key  \\\n0              0.0   4.99            9   \n1              0.0   3.39          16a   \n2              0.0   3.89           20   \n3              0.0   3.07           18   \n4              0.0   2.28            5   \n\n                                              Smiles Standard Type  \\\n0           O=C(Nc1ccc(Cl)cc1)c1ccccc1Cn1ccc2cccnc21          IC50   \n1  COc1ccc2[nH]c3c4c(OC)c(OC)c(OC)cc4c4c(c3c2c1)C...    Inhibition   \n2     O=C1NC(=O)C(c2c[nH]c3ccccc23)=C1c1cccc2ccccc12    Inhibition   \n3  COc1cc(C2=C(c3c(C)[nH]c4ccccc34)C(=O)NC2=O)cc(...    Inhibition   \n4         COc1cc(C2=C(c3ccccc3)C(=O)NC2=O)cc(OC)c1OC    Inhibition   \n\n  Standard Relation  ...  Target Organism     Target Type  Document ChEMBL ID  \\\n0                >'  ...     Homo sapiens  SINGLE PROTEIN       CHEMBL1139022   \n1                ='  ...     Homo sapiens  SINGLE PROTEIN       CHEMBL1149451   \n2                ='  ...     Homo sapiens  SINGLE PROTEIN       CHEMBL1149451   \n3                ='  ...     Homo sapiens  SINGLE PROTEIN       CHEMBL1149451   \n4                ='  ...     Homo sapiens  SINGLE PROTEIN       CHEMBL1149451   \n\n  Source ID     Source Description      Document Journal  Document Year  \\\n0         1  Scientific Literature  Bioorg Med Chem Lett         2006.0   \n1         1  Scientific Literature            J Med Chem         2006.0   \n2         1  Scientific Literature            J Med Chem         2006.0   \n3         1  Scientific Literature            J Med Chem         2006.0   \n4         1  Scientific Literature            J Med Chem         2006.0   \n\n   Cell ChEMBL ID  Properties  Action Type  \n0             NaN         NaN          NaN  \n1   CHEMBL3308860         NaN          NaN  \n2   CHEMBL3308860         NaN          NaN  \n3   CHEMBL3308860         NaN          NaN  \n4   CHEMBL3308860         NaN          NaN  \n\n[5 rows x 46 columns]",
      "text/html": "<div>\n<style scoped>\n    .dataframe tbody tr th:only-of-type {\n        vertical-align: middle;\n    }\n\n    .dataframe tbody tr th {\n        vertical-align: top;\n    }\n\n    .dataframe thead th {\n        text-align: right;\n    }\n</style>\n<table border=\"1\" class=\"dataframe\">\n  <thead>\n    <tr style=\"text-align: right;\">\n      <th></th>\n      <th>Molecule ChEMBL ID</th>\n      <th>Molecule Name</th>\n      <th>Molecule Max Phase</th>\n      <th>Molecular Weight</th>\n      <th>#RO5 Violations</th>\n      <th>AlogP</th>\n      <th>Compound Key</th>\n      <th>Smiles</th>\n      <th>Standard Type</th>\n      <th>Standard Relation</th>\n      <th>...</th>\n      <th>Target Organism</th>\n      <th>Target Type</th>\n      <th>Document ChEMBL ID</th>\n      <th>Source ID</th>\n      <th>Source Description</th>\n      <th>Document Journal</th>\n      <th>Document Year</th>\n      <th>Cell ChEMBL ID</th>\n      <th>Properties</th>\n      <th>Action Type</th>\n    </tr>\n  </thead>\n  <tbody>\n    <tr>\n      <th>0</th>\n      <td>CHEMBL205876</td>\n      <td>NaN</td>\n      <td>NaN</td>\n      <td>361.83</td>\n      <td>0.0</td>\n      <td>4.99</td>\n      <td>9</td>\n      <td>O=C(Nc1ccc(Cl)cc1)c1ccccc1Cn1ccc2cccnc21</td>\n      <td>IC50</td>\n      <td>&gt;'</td>\n      <td>...</td>\n      <td>Homo sapiens</td>\n      <td>SINGLE PROTEIN</td>\n      <td>CHEMBL1139022</td>\n      <td>1</td>\n      <td>Scientific Literature</td>\n      <td>Bioorg Med Chem Lett</td>\n      <td>2006.0</td>\n      <td>NaN</td>\n      <td>NaN</td>\n      <td>NaN</td>\n    </tr>\n    <tr>\n      <th>1</th>\n      <td>CHEMBL201090</td>\n      <td>NaN</td>\n      <td>NaN</td>\n      <td>406.39</td>\n      <td>0.0</td>\n      <td>3.39</td>\n      <td>16a</td>\n      <td>COc1ccc2[nH]c3c4c(OC)c(OC)c(OC)cc4c4c(c3c2c1)C...</td>\n      <td>Inhibition</td>\n      <td>='</td>\n      <td>...</td>\n      <td>Homo sapiens</td>\n      <td>SINGLE PROTEIN</td>\n      <td>CHEMBL1149451</td>\n      <td>1</td>\n      <td>Scientific Literature</td>\n      <td>J Med Chem</td>\n      <td>2006.0</td>\n      <td>CHEMBL3308860</td>\n      <td>NaN</td>\n      <td>NaN</td>\n    </tr>\n    <tr>\n      <th>2</th>\n      <td>CHEMBL202196</td>\n      <td>NaN</td>\n      <td>NaN</td>\n      <td>338.37</td>\n      <td>0.0</td>\n      <td>3.89</td>\n      <td>20</td>\n      <td>O=C1NC(=O)C(c2c[nH]c3ccccc23)=C1c1cccc2ccccc12</td>\n      <td>Inhibition</td>\n      <td>='</td>\n      <td>...</td>\n      <td>Homo sapiens</td>\n      <td>SINGLE PROTEIN</td>\n      <td>CHEMBL1149451</td>\n      <td>1</td>\n      <td>Scientific Literature</td>\n      <td>J Med Chem</td>\n      <td>2006.0</td>\n      <td>CHEMBL3308860</td>\n      <td>NaN</td>\n      <td>NaN</td>\n    </tr>\n    <tr>\n      <th>3</th>\n      <td>CHEMBL201463</td>\n      <td>NaN</td>\n      <td>NaN</td>\n      <td>392.41</td>\n      <td>0.0</td>\n      <td>3.07</td>\n      <td>18</td>\n      <td>COc1cc(C2=C(c3c(C)[nH]c4ccccc34)C(=O)NC2=O)cc(...</td>\n      <td>Inhibition</td>\n      <td>='</td>\n      <td>...</td>\n      <td>Homo sapiens</td>\n      <td>SINGLE PROTEIN</td>\n      <td>CHEMBL1149451</td>\n      <td>1</td>\n      <td>Scientific Literature</td>\n      <td>J Med Chem</td>\n      <td>2006.0</td>\n      <td>CHEMBL3308860</td>\n      <td>NaN</td>\n      <td>NaN</td>\n    </tr>\n    <tr>\n      <th>4</th>\n      <td>CHEMBL372944</td>\n      <td>NaN</td>\n      <td>NaN</td>\n      <td>339.35</td>\n      <td>0.0</td>\n      <td>2.28</td>\n      <td>5</td>\n      <td>COc1cc(C2=C(c3ccccc3)C(=O)NC2=O)cc(OC)c1OC</td>\n      <td>Inhibition</td>\n      <td>='</td>\n      <td>...</td>\n      <td>Homo sapiens</td>\n      <td>SINGLE PROTEIN</td>\n      <td>CHEMBL1149451</td>\n      <td>1</td>\n      <td>Scientific Literature</td>\n      <td>J Med Chem</td>\n      <td>2006.0</td>\n      <td>CHEMBL3308860</td>\n      <td>NaN</td>\n      <td>NaN</td>\n    </tr>\n  </tbody>\n</table>\n<p>5 rows × 46 columns</p>\n</div>"
     },
     "execution_count": 16,
     "metadata": {},
     "output_type": "execute_result"
    }
   ],
   "source": [
    "path = '/home/shrestha/python_project/datasets/biopharma_activity.csv'\n",
    "data = pd.read_csv(path , on_bad_lines='skip')\n",
    "# data = pd.read_csv(path , error_bad_lines=False) #IF ABOVE LINE GIVES ERROR UNCOMMENT THIS LINE AND COMMENT OUT ABOVE LINE AND THEN RUN\n",
    "data = data.dropna(subset=['Smiles','Standard Value','Molecular Weight','AlogP','Standard Units'])\n",
    "data.reset_index(drop=True, inplace=True)\n",
    "data.head()"
   ],
   "id": "3cbc0a7cb867bf4a"
  },
  {
   "cell_type": "code",
   "execution_count": 17,
   "metadata": {
    "collapsed": false,
    "ExecuteTime": {
     "end_time": "2023-09-04T23:57:08.106080274Z",
     "start_time": "2023-09-04T23:57:07.965605079Z"
    }
   },
   "outputs": [
    {
     "name": "stdout",
     "output_type": "stream",
     "text": [
      "['nM' '%' 'hr' 'uM' 'ug.mL-1' \"10'-4No_unit\" 'degrees C' \"10'-3/s\"\n",
      " \"10'5/M/s\" '% ID/g' 'µM' 'equiv']\n"
     ]
    }
   ],
   "source": [
    "unique_units = data['Standard Units'].unique()  #finding different units of solubility present in our data\n",
    "print(unique_units)\n",
    "\n",
    "#we can only use nM, %, uM, ug.mL-1, we drop all other values \n",
    "units_to_drop = ['%', 'hr',  'ug.mL-1', \"10'-4No_unit\", 'degrees C', \"10'-3/s\",\n",
    "                 \"10'5/M/s\", '% ID/g', 'equiv']\n",
    "data = data[~data[\"Standard Units\"].isin(units_to_drop)]\n",
    "data.reset_index(drop=True, inplace=True)\n",
    "data['Standard Value'] = data.apply(lambda row:\n",
    "                                    row['Standard Value'] * 1000 if row['Standard Units'] in ('µM','uM') else row['Standard Value'],axis=1)\n",
    "\n",
    "data[\"Standard Units\"] = 'nM'\n",
    "\n",
    "mean_value = data[\"Standard Value\"].mean()\n",
    "std_dev = data[\"Standard Value\"].std()\n",
    "\n",
    "# Perform Z-score normalization\n",
    "data[\"Standard Value\"] = (data[\"Standard Value\"] - mean_value) / std_dev"
   ],
   "id": "dc0a49194a71898"
  },
  {
   "cell_type": "code",
   "execution_count": 18,
   "metadata": {
    "collapsed": false,
    "ExecuteTime": {
     "end_time": "2023-09-04T23:57:09.478934283Z",
     "start_time": "2023-09-04T23:57:09.408288991Z"
    }
   },
   "outputs": [
    {
     "data": {
      "text/plain": "      Molecule ChEMBL ID Molecule Name  Molecule Max Phase  Molecular Weight  \\\n0           CHEMBL205876           NaN                 NaN            361.83   \n1           CHEMBL201511     MALEIMIDE                 NaN            378.38   \n2           CHEMBL382478           NaN                 NaN            404.47   \n3           CHEMBL410903           NaN                 NaN            442.52   \n4          CHEMBL1241777           NaN                 NaN            444.49   \n...                  ...           ...                 ...               ...   \n15480           CHEMBL98    VORINOSTAT                 4.0            264.32   \n15481        CHEMBL24828    VANDETANIB                 4.0            475.36   \n15482      CHEMBL5174514           NaN                 NaN            569.68   \n15483      CHEMBL5218990           NaN                 NaN            595.47   \n15484      CHEMBL1946170   REGORAFENIB                 4.0            482.82   \n\n       #RO5 Violations  AlogP Compound Key  \\\n0                  0.0   4.99            9   \n1                  0.0   2.76           10   \n2                  1.0   5.35           36   \n3                  1.0   5.87           37   \n4                  0.0   4.77           59   \n...                ...    ...          ...   \n15480              0.0   2.47      1; SAHA   \n15481              0.0   4.43   Vandetanib   \n15482              2.0   5.31            8   \n15483              2.0   7.39           60   \n15484              1.0   5.69  Regorafenib   \n\n                                                  Smiles Standard Type  \\\n0               O=C(Nc1ccc(Cl)cc1)c1ccccc1Cn1ccc2cccnc21          IC50   \n1      COc1cc(C2=C(c3c[nH]c4ccccc34)C(=O)NC2=O)cc(OC)...          IC50   \n2       O=C(Nc1ccc(-c2ccccc2)cc1)c1ccccc1Cn1ccc2ncnc-2c1          IC50   \n3      COc1cc2nccc(Oc3ccc4c(C(=O)NC5CCCC5)cccc4c3)c2c...          IC50   \n4      COCCNC(=O)c1cccc2cc(Oc3ccnc4cc(OC)c(C(C)=O)cc3...          IC50   \n...                                                  ...           ...   \n15480                        O=C(CCCCCCC(=O)Nc1ccccc1)NO          IC50   \n15481  COc1cc2/c(=N/c3ccc(Br)cc3F)nc[nH]c2cc1OCC1CCN(...          IC50   \n15482  Cc1cnc(C#Cc2ccc3c4c(oc3c2)C(C)(C)c2cc(NS(C)(=O...          IC50   \n15483  COc1cc2ncnc(Sc3cccc(NC(=S)Nc4ccc(Br)c(C(F)(F)F...          IC50   \n15484  CNC(=O)c1cc(Oc2ccc(NC(=O)Nc3ccc(Cl)c(C(F)(F)F)...          IC50   \n\n      Standard Relation  ...  Target Organism     Target Type  \\\n0                    >'  ...     Homo sapiens  SINGLE PROTEIN   \n1                    ='  ...     Homo sapiens  SINGLE PROTEIN   \n2                    ='  ...     Homo sapiens  SINGLE PROTEIN   \n3                    ='  ...     Homo sapiens  SINGLE PROTEIN   \n4                    ='  ...     Homo sapiens  SINGLE PROTEIN   \n...                 ...  ...              ...             ...   \n15480                >'  ...     Homo sapiens  SINGLE PROTEIN   \n15481                ='  ...     Homo sapiens  SINGLE PROTEIN   \n15482                >'  ...     Homo sapiens  SINGLE PROTEIN   \n15483                ='  ...     Homo sapiens  SINGLE PROTEIN   \n15484                ='  ...     Homo sapiens  SINGLE PROTEIN   \n\n       Document ChEMBL ID Source ID     Source Description  \\\n0           CHEMBL1139022         1  Scientific Literature   \n1           CHEMBL1149451         1  Scientific Literature   \n2           CHEMBL1139022         1  Scientific Literature   \n3           CHEMBL1240342         1  Scientific Literature   \n4           CHEMBL1240342         1  Scientific Literature   \n...                   ...       ...                    ...   \n15480       CHEMBL5214883         1  Scientific Literature   \n15481       CHEMBL5214883         1  Scientific Literature   \n15482       CHEMBL5113522         1  Scientific Literature   \n15483       CHEMBL5214889         1  Scientific Literature   \n15484       CHEMBL5150004         1  Scientific Literature   \n\n           Document Journal  Document Year  Cell ChEMBL ID        Properties  \\\n0      Bioorg Med Chem Lett         2006.0             NaN               NaN   \n1                J Med Chem         2006.0             NaN               NaN   \n2      Bioorg Med Chem Lett         2006.0             NaN               NaN   \n3         J Mol Graph Model         2009.0             NaN               NaN   \n4         J Mol Graph Model         2009.0             NaN               NaN   \n...                     ...            ...             ...               ...   \n15480        Eur J Med Chem         2021.0             NaN               NaN   \n15481        Eur J Med Chem         2021.0             NaN               NaN   \n15482            J Med Chem         2022.0             NaN               NaN   \n15483        Eur J Med Chem         2021.0             NaN  TIME = 0.1667 hr   \n15484            J Med Chem         2021.0             NaN               NaN   \n\n       Action Type  \n0              NaN  \n1              NaN  \n2              NaN  \n3              NaN  \n4              NaN  \n...            ...  \n15480          NaN  \n15481    INHIBITOR  \n15482          NaN  \n15483    INHIBITOR  \n15484    INHIBITOR  \n\n[15485 rows x 46 columns]",
      "text/html": "<div>\n<style scoped>\n    .dataframe tbody tr th:only-of-type {\n        vertical-align: middle;\n    }\n\n    .dataframe tbody tr th {\n        vertical-align: top;\n    }\n\n    .dataframe thead th {\n        text-align: right;\n    }\n</style>\n<table border=\"1\" class=\"dataframe\">\n  <thead>\n    <tr style=\"text-align: right;\">\n      <th></th>\n      <th>Molecule ChEMBL ID</th>\n      <th>Molecule Name</th>\n      <th>Molecule Max Phase</th>\n      <th>Molecular Weight</th>\n      <th>#RO5 Violations</th>\n      <th>AlogP</th>\n      <th>Compound Key</th>\n      <th>Smiles</th>\n      <th>Standard Type</th>\n      <th>Standard Relation</th>\n      <th>...</th>\n      <th>Target Organism</th>\n      <th>Target Type</th>\n      <th>Document ChEMBL ID</th>\n      <th>Source ID</th>\n      <th>Source Description</th>\n      <th>Document Journal</th>\n      <th>Document Year</th>\n      <th>Cell ChEMBL ID</th>\n      <th>Properties</th>\n      <th>Action Type</th>\n    </tr>\n  </thead>\n  <tbody>\n    <tr>\n      <th>0</th>\n      <td>CHEMBL205876</td>\n      <td>NaN</td>\n      <td>NaN</td>\n      <td>361.83</td>\n      <td>0.0</td>\n      <td>4.99</td>\n      <td>9</td>\n      <td>O=C(Nc1ccc(Cl)cc1)c1ccccc1Cn1ccc2cccnc21</td>\n      <td>IC50</td>\n      <td>&gt;'</td>\n      <td>...</td>\n      <td>Homo sapiens</td>\n      <td>SINGLE PROTEIN</td>\n      <td>CHEMBL1139022</td>\n      <td>1</td>\n      <td>Scientific Literature</td>\n      <td>Bioorg Med Chem Lett</td>\n      <td>2006.0</td>\n      <td>NaN</td>\n      <td>NaN</td>\n      <td>NaN</td>\n    </tr>\n    <tr>\n      <th>1</th>\n      <td>CHEMBL201511</td>\n      <td>MALEIMIDE</td>\n      <td>NaN</td>\n      <td>378.38</td>\n      <td>0.0</td>\n      <td>2.76</td>\n      <td>10</td>\n      <td>COc1cc(C2=C(c3c[nH]c4ccccc34)C(=O)NC2=O)cc(OC)...</td>\n      <td>IC50</td>\n      <td>='</td>\n      <td>...</td>\n      <td>Homo sapiens</td>\n      <td>SINGLE PROTEIN</td>\n      <td>CHEMBL1149451</td>\n      <td>1</td>\n      <td>Scientific Literature</td>\n      <td>J Med Chem</td>\n      <td>2006.0</td>\n      <td>NaN</td>\n      <td>NaN</td>\n      <td>NaN</td>\n    </tr>\n    <tr>\n      <th>2</th>\n      <td>CHEMBL382478</td>\n      <td>NaN</td>\n      <td>NaN</td>\n      <td>404.47</td>\n      <td>1.0</td>\n      <td>5.35</td>\n      <td>36</td>\n      <td>O=C(Nc1ccc(-c2ccccc2)cc1)c1ccccc1Cn1ccc2ncnc-2c1</td>\n      <td>IC50</td>\n      <td>='</td>\n      <td>...</td>\n      <td>Homo sapiens</td>\n      <td>SINGLE PROTEIN</td>\n      <td>CHEMBL1139022</td>\n      <td>1</td>\n      <td>Scientific Literature</td>\n      <td>Bioorg Med Chem Lett</td>\n      <td>2006.0</td>\n      <td>NaN</td>\n      <td>NaN</td>\n      <td>NaN</td>\n    </tr>\n    <tr>\n      <th>3</th>\n      <td>CHEMBL410903</td>\n      <td>NaN</td>\n      <td>NaN</td>\n      <td>442.52</td>\n      <td>1.0</td>\n      <td>5.87</td>\n      <td>37</td>\n      <td>COc1cc2nccc(Oc3ccc4c(C(=O)NC5CCCC5)cccc4c3)c2c...</td>\n      <td>IC50</td>\n      <td>='</td>\n      <td>...</td>\n      <td>Homo sapiens</td>\n      <td>SINGLE PROTEIN</td>\n      <td>CHEMBL1240342</td>\n      <td>1</td>\n      <td>Scientific Literature</td>\n      <td>J Mol Graph Model</td>\n      <td>2009.0</td>\n      <td>NaN</td>\n      <td>NaN</td>\n      <td>NaN</td>\n    </tr>\n    <tr>\n      <th>4</th>\n      <td>CHEMBL1241777</td>\n      <td>NaN</td>\n      <td>NaN</td>\n      <td>444.49</td>\n      <td>0.0</td>\n      <td>4.77</td>\n      <td>59</td>\n      <td>COCCNC(=O)c1cccc2cc(Oc3ccnc4cc(OC)c(C(C)=O)cc3...</td>\n      <td>IC50</td>\n      <td>='</td>\n      <td>...</td>\n      <td>Homo sapiens</td>\n      <td>SINGLE PROTEIN</td>\n      <td>CHEMBL1240342</td>\n      <td>1</td>\n      <td>Scientific Literature</td>\n      <td>J Mol Graph Model</td>\n      <td>2009.0</td>\n      <td>NaN</td>\n      <td>NaN</td>\n      <td>NaN</td>\n    </tr>\n    <tr>\n      <th>...</th>\n      <td>...</td>\n      <td>...</td>\n      <td>...</td>\n      <td>...</td>\n      <td>...</td>\n      <td>...</td>\n      <td>...</td>\n      <td>...</td>\n      <td>...</td>\n      <td>...</td>\n      <td>...</td>\n      <td>...</td>\n      <td>...</td>\n      <td>...</td>\n      <td>...</td>\n      <td>...</td>\n      <td>...</td>\n      <td>...</td>\n      <td>...</td>\n      <td>...</td>\n      <td>...</td>\n    </tr>\n    <tr>\n      <th>15480</th>\n      <td>CHEMBL98</td>\n      <td>VORINOSTAT</td>\n      <td>4.0</td>\n      <td>264.32</td>\n      <td>0.0</td>\n      <td>2.47</td>\n      <td>1; SAHA</td>\n      <td>O=C(CCCCCCC(=O)Nc1ccccc1)NO</td>\n      <td>IC50</td>\n      <td>&gt;'</td>\n      <td>...</td>\n      <td>Homo sapiens</td>\n      <td>SINGLE PROTEIN</td>\n      <td>CHEMBL5214883</td>\n      <td>1</td>\n      <td>Scientific Literature</td>\n      <td>Eur J Med Chem</td>\n      <td>2021.0</td>\n      <td>NaN</td>\n      <td>NaN</td>\n      <td>NaN</td>\n    </tr>\n    <tr>\n      <th>15481</th>\n      <td>CHEMBL24828</td>\n      <td>VANDETANIB</td>\n      <td>4.0</td>\n      <td>475.36</td>\n      <td>0.0</td>\n      <td>4.43</td>\n      <td>Vandetanib</td>\n      <td>COc1cc2/c(=N/c3ccc(Br)cc3F)nc[nH]c2cc1OCC1CCN(...</td>\n      <td>IC50</td>\n      <td>='</td>\n      <td>...</td>\n      <td>Homo sapiens</td>\n      <td>SINGLE PROTEIN</td>\n      <td>CHEMBL5214883</td>\n      <td>1</td>\n      <td>Scientific Literature</td>\n      <td>Eur J Med Chem</td>\n      <td>2021.0</td>\n      <td>NaN</td>\n      <td>NaN</td>\n      <td>INHIBITOR</td>\n    </tr>\n    <tr>\n      <th>15482</th>\n      <td>CHEMBL5174514</td>\n      <td>NaN</td>\n      <td>NaN</td>\n      <td>569.68</td>\n      <td>2.0</td>\n      <td>5.31</td>\n      <td>8</td>\n      <td>Cc1cnc(C#Cc2ccc3c4c(oc3c2)C(C)(C)c2cc(NS(C)(=O...</td>\n      <td>IC50</td>\n      <td>&gt;'</td>\n      <td>...</td>\n      <td>Homo sapiens</td>\n      <td>SINGLE PROTEIN</td>\n      <td>CHEMBL5113522</td>\n      <td>1</td>\n      <td>Scientific Literature</td>\n      <td>J Med Chem</td>\n      <td>2022.0</td>\n      <td>NaN</td>\n      <td>NaN</td>\n      <td>NaN</td>\n    </tr>\n    <tr>\n      <th>15483</th>\n      <td>CHEMBL5218990</td>\n      <td>NaN</td>\n      <td>NaN</td>\n      <td>595.47</td>\n      <td>2.0</td>\n      <td>7.39</td>\n      <td>60</td>\n      <td>COc1cc2ncnc(Sc3cccc(NC(=S)Nc4ccc(Br)c(C(F)(F)F...</td>\n      <td>IC50</td>\n      <td>='</td>\n      <td>...</td>\n      <td>Homo sapiens</td>\n      <td>SINGLE PROTEIN</td>\n      <td>CHEMBL5214889</td>\n      <td>1</td>\n      <td>Scientific Literature</td>\n      <td>Eur J Med Chem</td>\n      <td>2021.0</td>\n      <td>NaN</td>\n      <td>TIME = 0.1667 hr</td>\n      <td>INHIBITOR</td>\n    </tr>\n    <tr>\n      <th>15484</th>\n      <td>CHEMBL1946170</td>\n      <td>REGORAFENIB</td>\n      <td>4.0</td>\n      <td>482.82</td>\n      <td>1.0</td>\n      <td>5.69</td>\n      <td>Regorafenib</td>\n      <td>CNC(=O)c1cc(Oc2ccc(NC(=O)Nc3ccc(Cl)c(C(F)(F)F)...</td>\n      <td>IC50</td>\n      <td>='</td>\n      <td>...</td>\n      <td>Homo sapiens</td>\n      <td>SINGLE PROTEIN</td>\n      <td>CHEMBL5150004</td>\n      <td>1</td>\n      <td>Scientific Literature</td>\n      <td>J Med Chem</td>\n      <td>2021.0</td>\n      <td>NaN</td>\n      <td>NaN</td>\n      <td>INHIBITOR</td>\n    </tr>\n  </tbody>\n</table>\n<p>15485 rows × 46 columns</p>\n</div>"
     },
     "execution_count": 18,
     "metadata": {},
     "output_type": "execute_result"
    }
   ],
   "source": [
    "data"
   ],
   "id": "891fd7ed1f066b37"
  },
  {
   "cell_type": "code",
   "execution_count": 5,
   "metadata": {
    "ExecuteTime": {
     "end_time": "2023-09-04T23:48:02.533531196Z",
     "start_time": "2023-09-04T23:45:34.194595487Z"
    }
   },
   "outputs": [
    {
     "data": {
      "text/plain": "<Figure size 1000x800 with 3 Axes>",
      "image/png": "[encoded data removed]"
     },
     "metadata": {},
     "output_type": "display_data"
    }
   ],
   "source": [
    "# random_indices = np.random.choice(data.index, 20, replace=False)\n",
    "# random_rows = data.loc[random_indices]\n",
    "\n",
    "fig, axs = plt.subplots(2, 2, figsize=(10, 8))\n",
    "\n",
    "# Plot the first scatter plot in the top-left subplot\n",
    "axs[0, 0].scatter(data[\"Molecule ChEMBL ID\"], data[\"Standard Value\"], c='b', label='Activities')\n",
    "axs[0, 0].set_title('Activity Graph')\n",
    "x_ticks = np.arange(1, 18799, 10000)  # Example: Show every 2nd tick\n",
    "plt.xticks(x_ticks,rotation=90)\n",
    "axs[0, 0].set_xlabel('Chembl ID')\n",
    "axs[0, 0].set_ylabel('Activity')\n",
    "axs[0, 0].legend()\n",
    "\n",
    "# Plot the second scatter plot in the top-right subplot\n",
    "axs[0, 1].scatter(data['Molecule ChEMBL ID'], data[\"AlogP\"], c='r', label='Solubility')\n",
    "axs[0, 1].set_title('Solubility Graph')\n",
    "x_ticks = np.arange(1, 18799, 10000)  # Example: Show every 2nd tick\n",
    "plt.xticks(x_ticks,rotation=90)\n",
    "axs[0, 1].set_xlabel('Chembl ID')\n",
    "axs[0, 1].set_ylabel('AlogP')\n",
    "axs[0, 1].legend()\n",
    "\n",
    "# Plot the third scatter plot in the bottom-left subplot\n",
    "axs[1, 0].scatter(data[\"Molecule ChEMBL ID\"], data[\"Molecular Weight\"], c='g', label='Molecular weight')\n",
    "axs[1, 0].set_title('Molecular weight')\n",
    "x_ticks = np.arange(1, 18799, 1000)  # Example: Show every 2nd tick\n",
    "plt.xticks(x_ticks,rotation=90)\n",
    "axs[1, 0].set_xlabel('Chembl ID')\n",
    "axs[1, 0].set_ylabel('Molecular weight')\n",
    "axs[1, 0].legend()\n",
    "\n",
    "fig.delaxes(axs[1, 1])\n",
    "# Adjust spacing between subplots\n",
    "plt.tight_layout()\n",
    "\n",
    "# Show the plots\n",
    "plt.show()"
   ],
   "id": "d2a5e00ad68666b2"
  },
  {
   "cell_type": "code",
   "execution_count": 19,
   "metadata": {
    "ExecuteTime": {
     "end_time": "2023-09-04T23:57:31.058374359Z",
     "start_time": "2023-09-04T23:57:31.038684342Z"
    }
   },
   "outputs": [
    {
     "data": {
      "text/plain": "0                 O=C(Nc1ccc(Cl)cc1)c1ccccc1Cn1ccc2cccnc21\n1        COc1cc(C2=C(c3c[nH]c4ccccc34)C(=O)NC2=O)cc(OC)...\n2         O=C(Nc1ccc(-c2ccccc2)cc1)c1ccccc1Cn1ccc2ncnc-2c1\n3        COc1cc2nccc(Oc3ccc4c(C(=O)NC5CCCC5)cccc4c3)c2c...\n4        COCCNC(=O)c1cccc2cc(Oc3ccnc4cc(OC)c(C(C)=O)cc3...\n                               ...                        \n15480                          O=C(CCCCCCC(=O)Nc1ccccc1)NO\n15481    COc1cc2/c(=N/c3ccc(Br)cc3F)nc[nH]c2cc1OCC1CCN(...\n15482    Cc1cnc(C#Cc2ccc3c4c(oc3c2)C(C)(C)c2cc(NS(C)(=O...\n15483    COc1cc2ncnc(Sc3cccc(NC(=S)Nc4ccc(Br)c(C(F)(F)F...\n15484    CNC(=O)c1cc(Oc2ccc(NC(=O)Nc3ccc(Cl)c(C(F)(F)F)...\nName: Smiles, Length: 15485, dtype: object"
     },
     "execution_count": 19,
     "metadata": {},
     "output_type": "execute_result"
    }
   ],
   "source": [
    "smiles_list = data['Smiles']\n",
    "smiles_list"
   ],
   "id": "90f4485a40998073"
  },
  {
   "cell_type": "code",
   "execution_count": 20,
   "metadata": {
    "ExecuteTime": {
     "end_time": "2023-09-04T23:57:38.832722222Z",
     "start_time": "2023-09-04T23:57:33.922671272Z"
    }
   },
   "outputs": [],
   "source": [
    "SMILES_CHARS = [' ',\n",
    "                '#', '%', '(', ')', '+', '-', '.', '/',\n",
    "                '0', '1', '2', '3', '4', '5', '6', '7', '8', '9',\n",
    "                '=', '@',\n",
    "                'A', 'B', 'C', 'F', 'H', 'I', 'K', 'L', 'M', 'N', 'O', 'P',\n",
    "                'R', 'S', 'T', 'V', 'X', 'Z',\n",
    "                '[', '\\\\', ']',\n",
    "                'a', 'b', 'c', 'e', 'g', 'i', 'l', 'n', 'o', 'p', 'r', 's',\n",
    "                't', 'u']\n",
    "smi2index = dict( (c,i) for i,c in enumerate( SMILES_CHARS ) )\n",
    "index2smi = dict( (i,c) for i,c in enumerate( SMILES_CHARS ) )\n",
    "def smiles_encoder(compound, maxlen=295):\n",
    "    smiles = Chem.MolToSmiles(Chem.MolFromSmiles(compound))\n",
    "    X = np.zeros( ( maxlen, len( SMILES_CHARS ) ) )\n",
    "    for i, c in enumerate( smiles ):\n",
    "        X[i, smi2index[c] ] = 1\n",
    "    return X\n",
    "\n",
    "one_hot_list = []\n",
    "for i in range(len(smiles_list)):\n",
    "    mat=smiles_encoder(smiles_list[i])\n",
    "    one_hot_list.append(mat)"
   ],
   "id": "4c450a482106d43a"
  },
  {
   "cell_type": "code",
   "execution_count": 21,
   "metadata": {
    "collapsed": false,
    "ExecuteTime": {
     "end_time": "2023-09-04T23:57:46.195173894Z",
     "start_time": "2023-09-04T23:57:46.144196131Z"
    }
   },
   "outputs": [],
   "source": [
    "X = one_hot_list\n",
    "y = data[['Standard Value',\"AlogP\",\"Molecular Weight\"]].to_numpy()\n",
    "\n",
    "X_train, X_test, y_train, y_test = train_test_split(X, y, test_size=0.2, random_state=42)\n",
    "X_train, X_val, y_train, y_val = train_test_split(X_train, y_train, test_size=0.1, random_state=42)"
   ],
   "id": "f3dce4ce772764d5"
  },
  {
   "cell_type": "code",
   "execution_count": 22,
   "metadata": {
    "collapsed": false,
    "ExecuteTime": {
     "end_time": "2023-09-04T23:57:48.758714810Z",
     "start_time": "2023-09-04T23:57:48.711661669Z"
    }
   },
   "outputs": [],
   "source": [
    "class CustomDataset(Dataset):\n",
    "    def __init__(self, data, labels):\n",
    "        self.data = data\n",
    "        self.labels = labels  \n",
    "    def __len__(self):\n",
    "        return len(self.data)\n",
    "\n",
    "    def __getitem__(self, idx):\n",
    "        return self.data[idx], self.labels[idx]\n",
    "\n",
    "train_dataset = CustomDataset(X_train, y_train)\n",
    "val_dataset = CustomDataset(X_val, y_val)\n",
    "test_dataset = CustomDataset(X_test, y_test)\n",
    "\n",
    "# Step 3: Create DataLoader for each split\n",
    "batch_size = 64  # Adjust the batch size as needed\n",
    "# packed_input = pack_padded_sequence(x, lengths, batch_first=True, enforce_sorted=False)\n",
    "train_loader = DataLoader(train_dataset, batch_size=batch_size, shuffle=True)\n",
    "val_loader = DataLoader(val_dataset)\n",
    "test_loader = DataLoader(test_dataset)"
   ],
   "id": "3bec01cb84831925"
  },
  {
   "cell_type": "code",
   "execution_count": 24,
   "metadata": {
    "collapsed": false,
    "ExecuteTime": {
     "end_time": "2023-09-04T23:58:27.149938086Z",
     "start_time": "2023-09-04T23:58:27.128687062Z"
    }
   },
   "outputs": [],
   "source": [
    "device = torch.device(\"cuda:0\" if torch.cuda.is_available() else \"cpu\")\n",
    "class LSTM_Net(nn.Module):\n",
    "    def __init__(self):\n",
    "        super(LSTM_Net, self).__init__()\n",
    "\n",
    "        # length = dims[0]\n",
    "        # number_tokens = dims[1]\n",
    "\n",
    "\n",
    "        self.lstm = nn.LSTM(input_size=56, hidden_size=64, num_layers=1, batch_first=True, bidirectional=False)\n",
    "        self.fc1 = nn.Linear(64, 32) # Output layer\n",
    "        self.activation = nn.ReLU() # Non-Linear ReLU Layer       \n",
    "        self.fc_out = nn.Linear(32, 3) # Output layer\n",
    "        self.dropout = nn.Dropout(0.3)\n",
    "\n",
    "    def forward(self, x):# Forward pass: stacking each layer together\n",
    "        \n",
    "        out, (h_n, c_n) = self.lstm(x) #LSTM network reads in one-hot-encoded SMILES, h_n is last output, out is for all timesteps\n",
    "        out = self.dropout(h_n) #Dropout\n",
    "        out = self.fc1(out) # Pass into the hidden layer\n",
    "        out = self.activation(out) # Use ReLU on hidden activation\n",
    "        out = self.dropout(out) # dropout\n",
    "        out = self.fc_out(out) # Use a linear layer for the output\n",
    "        return out"
   ],
   "id": "2a8d12e95e457295"
  },
  {
   "cell_type": "code",
   "execution_count": 25,
   "metadata": {
    "ExecuteTime": {
     "end_time": "2023-09-04T23:58:29.101977224Z",
     "start_time": "2023-09-04T23:58:29.076976109Z"
    }
   },
   "outputs": [],
   "source": [
    "model = LSTM_Net().to(torch.float32)\n",
    "loss_type = MSELoss()\n",
    "optimizer = optim.Adam(model.parameters(),lr=0.004, weight_decay=0.05)\n",
    "epochs = 20"
   ],
   "id": "49561f082e62936"
  },
  {
   "cell_type": "code",
   "execution_count": 26,
   "metadata": {
    "collapsed": false,
    "ExecuteTime": {
     "end_time": "2023-09-05T00:02:48.898424275Z",
     "start_time": "2023-09-04T23:58:32.249719990Z"
    }
   },
   "outputs": [
    {
     "name": "stderr",
     "output_type": "stream",
     "text": [
      "100%|██████████| 175/175 [00:12<00:00, 14.49batch/s, loss=6.15e+3]\n"
     ]
    },
    {
     "name": "stdout",
     "output_type": "stream",
     "text": [
      "Validation Mean absolute error loss after Epoch 1: 0.0076\n"
     ]
    },
    {
     "name": "stderr",
     "output_type": "stream",
     "text": [
      "100%|██████████| 175/175 [00:11<00:00, 15.19batch/s, loss=5.84e+3]\n"
     ]
    },
    {
     "name": "stdout",
     "output_type": "stream",
     "text": [
      "Validation Mean absolute error loss after Epoch 2: 0.0026\n"
     ]
    },
    {
     "name": "stderr",
     "output_type": "stream",
     "text": [
      "100%|██████████| 175/175 [00:11<00:00, 14.87batch/s, loss=2.58e+3]\n"
     ]
    },
    {
     "name": "stdout",
     "output_type": "stream",
     "text": [
      "Validation Mean absolute error loss after Epoch 3: 0.0014\n"
     ]
    },
    {
     "name": "stderr",
     "output_type": "stream",
     "text": [
      "100%|██████████| 175/175 [00:11<00:00, 15.02batch/s, loss=2.97e+3]\n"
     ]
    },
    {
     "name": "stdout",
     "output_type": "stream",
     "text": [
      "Validation Mean absolute error loss after Epoch 4: 0.0205\n"
     ]
    },
    {
     "name": "stderr",
     "output_type": "stream",
     "text": [
      "100%|██████████| 175/175 [00:11<00:00, 15.06batch/s, loss=3.15e+3]\n"
     ]
    },
    {
     "name": "stdout",
     "output_type": "stream",
     "text": [
      "Validation Mean absolute error loss after Epoch 5: 0.0247\n"
     ]
    },
    {
     "name": "stderr",
     "output_type": "stream",
     "text": [
      "100%|██████████| 175/175 [00:11<00:00, 15.29batch/s, loss=3.78e+3]\n"
     ]
    },
    {
     "name": "stdout",
     "output_type": "stream",
     "text": [
      "Validation Mean absolute error loss after Epoch 6: 0.0145\n"
     ]
    },
    {
     "name": "stderr",
     "output_type": "stream",
     "text": [
      "100%|██████████| 175/175 [00:11<00:00, 15.14batch/s, loss=5.36e+3]\n"
     ]
    },
    {
     "name": "stdout",
     "output_type": "stream",
     "text": [
      "Validation Mean absolute error loss after Epoch 7: 0.0271\n"
     ]
    },
    {
     "name": "stderr",
     "output_type": "stream",
     "text": [
      "100%|██████████| 175/175 [00:11<00:00, 14.86batch/s, loss=5.16e+3]\n"
     ]
    },
    {
     "name": "stdout",
     "output_type": "stream",
     "text": [
      "Validation Mean absolute error loss after Epoch 8: 0.0103\n"
     ]
    },
    {
     "name": "stderr",
     "output_type": "stream",
     "text": [
      "100%|██████████| 175/175 [00:11<00:00, 15.15batch/s, loss=4.2e+3] \n"
     ]
    },
    {
     "name": "stdout",
     "output_type": "stream",
     "text": [
      "Validation Mean absolute error loss after Epoch 9: 0.0313\n"
     ]
    },
    {
     "name": "stderr",
     "output_type": "stream",
     "text": [
      "100%|██████████| 175/175 [00:12<00:00, 14.41batch/s, loss=2.33e+3]\n"
     ]
    },
    {
     "name": "stdout",
     "output_type": "stream",
     "text": [
      "Validation Mean absolute error loss after Epoch 10: 0.0074\n"
     ]
    },
    {
     "name": "stderr",
     "output_type": "stream",
     "text": [
      "100%|██████████| 175/175 [00:11<00:00, 15.04batch/s, loss=6.93e+3]\n"
     ]
    },
    {
     "name": "stdout",
     "output_type": "stream",
     "text": [
      "Validation Mean absolute error loss after Epoch 11: 0.0130\n"
     ]
    },
    {
     "name": "stderr",
     "output_type": "stream",
     "text": [
      "100%|██████████| 175/175 [00:11<00:00, 15.20batch/s, loss=6.41e+3]\n"
     ]
    },
    {
     "name": "stdout",
     "output_type": "stream",
     "text": [
      "Validation Mean absolute error loss after Epoch 12: 0.0143\n"
     ]
    },
    {
     "name": "stderr",
     "output_type": "stream",
     "text": [
      "100%|██████████| 175/175 [00:11<00:00, 14.79batch/s, loss=1.6e+3] \n"
     ]
    },
    {
     "name": "stdout",
     "output_type": "stream",
     "text": [
      "Validation Mean absolute error loss after Epoch 13: 0.0152\n"
     ]
    },
    {
     "name": "stderr",
     "output_type": "stream",
     "text": [
      "100%|██████████| 175/175 [00:11<00:00, 15.11batch/s, loss=2.03e+3]\n"
     ]
    },
    {
     "name": "stdout",
     "output_type": "stream",
     "text": [
      "Validation Mean absolute error loss after Epoch 14: 0.0516\n"
     ]
    },
    {
     "name": "stderr",
     "output_type": "stream",
     "text": [
      "100%|██████████| 175/175 [00:11<00:00, 15.39batch/s, loss=1.62e+3]\n"
     ]
    },
    {
     "name": "stdout",
     "output_type": "stream",
     "text": [
      "Validation Mean absolute error loss after Epoch 15: 0.0185\n"
     ]
    },
    {
     "name": "stderr",
     "output_type": "stream",
     "text": [
      "100%|██████████| 175/175 [00:11<00:00, 14.67batch/s, loss=7.48e+3]\n"
     ]
    },
    {
     "name": "stdout",
     "output_type": "stream",
     "text": [
      "Validation Mean absolute error loss after Epoch 16: 0.0108\n"
     ]
    },
    {
     "name": "stderr",
     "output_type": "stream",
     "text": [
      "100%|██████████| 175/175 [00:11<00:00, 15.57batch/s, loss=2.92e+3]\n"
     ]
    },
    {
     "name": "stdout",
     "output_type": "stream",
     "text": [
      "Validation Mean absolute error loss after Epoch 17: 0.0376\n"
     ]
    },
    {
     "name": "stderr",
     "output_type": "stream",
     "text": [
      "100%|██████████| 175/175 [00:11<00:00, 15.20batch/s, loss=4.66e+3]\n"
     ]
    },
    {
     "name": "stdout",
     "output_type": "stream",
     "text": [
      "Validation Mean absolute error loss after Epoch 18: 0.0088\n"
     ]
    },
    {
     "name": "stderr",
     "output_type": "stream",
     "text": [
      "100%|██████████| 175/175 [00:11<00:00, 15.40batch/s, loss=3.68e+3]\n"
     ]
    },
    {
     "name": "stdout",
     "output_type": "stream",
     "text": [
      "Validation Mean absolute error loss after Epoch 19: 0.0131\n"
     ]
    },
    {
     "name": "stderr",
     "output_type": "stream",
     "text": [
      "100%|██████████| 175/175 [00:11<00:00, 15.41batch/s, loss=3.28e+3]\n"
     ]
    },
    {
     "name": "stdout",
     "output_type": "stream",
     "text": [
      "Validation Mean absolute error loss after Epoch 20: 0.0132\n"
     ]
    }
   ],
   "source": [
    "steps = 0\n",
    "loss_list = []\n",
    "val_loss_list = []\n",
    "for epoch in range(epochs):\n",
    "    total = 0\n",
    "    correct = 0\n",
    "    with tqdm(train_loader, unit=\"batch\") as tepoch:\n",
    "        for data, labels in tepoch:\n",
    "            steps+=1\n",
    "            data , labels = data.to(torch.float32) , labels.to(torch.float32)\n",
    "            optimizer.zero_grad()\n",
    "            output = model(data)\n",
    "            loss = loss_type(output,labels.view(output.shape))\n",
    "            loss.backward()\n",
    "            optimizer.step()\n",
    "            loss_list.append(loss.detach().cpu().numpy())\n",
    "            tepoch.set_postfix(loss=loss.item())\n",
    "\n",
    "    # Calculate validation metrics without a nested tqdm\n",
    "    val_loss = 0.0  # Initialize validation loss\n",
    "    num_samples = 0  # Count of validation samples\n",
    "    val_loss_type = L1Loss()\n",
    "    with torch.no_grad():\n",
    "        for data, labels in val_loader:\n",
    "            data, labels = data.to(torch.float32), labels.to(torch.float32)\n",
    "            output = model(data)\n",
    "            val_loss = val_loss_type(output, labels.view(output.shape))\n",
    "            num_samples += len(data)\n",
    "            val_loss_list.append(val_loss.detach().cpu().numpy())\n",
    "\n",
    "        # val_loss /= num_samples  # Calculate average validation loss\n",
    "        print(f'Validation Mean absolute error loss after Epoch {epoch + 1}: {val_loss/num_samples:.4f}')"
   ],
   "id": "73216d35cf64f26f"
  },
  {
   "cell_type": "code",
   "execution_count": 27,
   "metadata": {
    "collapsed": false,
    "ExecuteTime": {
     "end_time": "2023-09-05T00:03:51.443831206Z",
     "start_time": "2023-09-05T00:03:47.090490224Z"
    }
   },
   "outputs": [
    {
     "name": "stdout",
     "output_type": "stream",
     "text": [
      "Validation Mean absolute error loss for activity, solubility and molecular weight respectively are [8.708933455636725e-05, 0.0002535564999561757, 0.03731079399585724]\n"
     ]
    }
   ],
   "source": [
    "test_loss_list = []\n",
    "test_loss_type = L1Loss()\n",
    "with torch.no_grad():\n",
    "    for data, test_labels in test_loader:\n",
    "        data, test_labels = data.to(torch.float32), test_labels.to(torch.float32)\n",
    "        output = model(data)\n",
    "        output = torch.reshape(output, (output.shape[1],3))\n",
    "        mae = torch.sum(torch.abs(output-test_labels),dim =0) # mean absolute error\n",
    "        num_samples += len(data)\n",
    "    # val_loss /= num_samples  # Calculate average validation loss\n",
    "    mae_list = (mae/num_samples).detach().cpu().numpy().tolist()\n",
    "    print(f'Validation Mean absolute error loss for activity, solubility and molecular weight respectively are {mae_list}')\n"
   ],
   "id": "4075d1789e5fd6"
  },
  {
   "cell_type": "markdown",
   "metadata": {},
   "source": [
    "## Traditional ML technique: Random Forest Regression"
   ],
   "id": "2eed5e34af2ee912"
  },
  {
   "cell_type": "code",
   "execution_count": 28,
   "metadata": {
    "collapsed": false,
    "ExecuteTime": {
     "end_time": "2023-09-05T00:04:01.940127260Z",
     "start_time": "2023-09-05T00:04:01.769875391Z"
    }
   },
   "outputs": [],
   "source": [
    "import numpy as np\n",
    "import pandas as pd\n",
    "import matplotlib.pyplot as plt\n",
    "from rdkit import Chem\n",
    "from sklearn.model_selection import train_test_split\n",
    "from sklearn.metrics import mean_absolute_error, mean_squared_error, r2_score\n",
    "from sklearn.ensemble import RandomForestRegressor\n",
    "from sklearn import metrics\n",
    "from sklearn.model_selection import train_test_split\n",
    "from sklearn.model_selection import GridSearchCV"
   ],
   "id": "4368a0b23004f086"
  },
  {
   "cell_type": "code",
   "execution_count": 31,
   "metadata": {
    "collapsed": false,
    "ExecuteTime": {
     "end_time": "2023-09-05T00:06:08.900201347Z",
     "start_time": "2023-09-05T00:06:08.597824146Z"
    }
   },
   "outputs": [
    {
     "data": {
      "text/plain": "  Molecule ChEMBL ID Molecule Name  Molecule Max Phase  Molecular Weight  \\\n0       CHEMBL205876           NaN                 NaN            361.83   \n1       CHEMBL201090           NaN                 NaN            406.39   \n2       CHEMBL202196           NaN                 NaN            338.37   \n3       CHEMBL201463           NaN                 NaN            392.41   \n4       CHEMBL372944           NaN                 NaN            339.35   \n\n   #RO5 Violations  AlogP Compound Key  \\\n0              0.0   4.99            9   \n1              0.0   3.39          16a   \n2              0.0   3.89           20   \n3              0.0   3.07           18   \n4              0.0   2.28            5   \n\n                                              Smiles Standard Type  \\\n0           O=C(Nc1ccc(Cl)cc1)c1ccccc1Cn1ccc2cccnc21          IC50   \n1  COc1ccc2[nH]c3c4c(OC)c(OC)c(OC)cc4c4c(c3c2c1)C...    Inhibition   \n2     O=C1NC(=O)C(c2c[nH]c3ccccc23)=C1c1cccc2ccccc12    Inhibition   \n3  COc1cc(C2=C(c3c(C)[nH]c4ccccc34)C(=O)NC2=O)cc(...    Inhibition   \n4         COc1cc(C2=C(c3ccccc3)C(=O)NC2=O)cc(OC)c1OC    Inhibition   \n\n  Standard Relation  ...  Target Organism     Target Type  Document ChEMBL ID  \\\n0                >'  ...     Homo sapiens  SINGLE PROTEIN       CHEMBL1139022   \n1                ='  ...     Homo sapiens  SINGLE PROTEIN       CHEMBL1149451   \n2                ='  ...     Homo sapiens  SINGLE PROTEIN       CHEMBL1149451   \n3                ='  ...     Homo sapiens  SINGLE PROTEIN       CHEMBL1149451   \n4                ='  ...     Homo sapiens  SINGLE PROTEIN       CHEMBL1149451   \n\n  Source ID     Source Description      Document Journal  Document Year  \\\n0         1  Scientific Literature  Bioorg Med Chem Lett         2006.0   \n1         1  Scientific Literature            J Med Chem         2006.0   \n2         1  Scientific Literature            J Med Chem         2006.0   \n3         1  Scientific Literature            J Med Chem         2006.0   \n4         1  Scientific Literature            J Med Chem         2006.0   \n\n   Cell ChEMBL ID  Properties  Action Type  \n0             NaN         NaN          NaN  \n1   CHEMBL3308860         NaN          NaN  \n2   CHEMBL3308860         NaN          NaN  \n3   CHEMBL3308860         NaN          NaN  \n4   CHEMBL3308860         NaN          NaN  \n\n[5 rows x 46 columns]",
      "text/html": "<div>\n<style scoped>\n    .dataframe tbody tr th:only-of-type {\n        vertical-align: middle;\n    }\n\n    .dataframe tbody tr th {\n        vertical-align: top;\n    }\n\n    .dataframe thead th {\n        text-align: right;\n    }\n</style>\n<table border=\"1\" class=\"dataframe\">\n  <thead>\n    <tr style=\"text-align: right;\">\n      <th></th>\n      <th>Molecule ChEMBL ID</th>\n      <th>Molecule Name</th>\n      <th>Molecule Max Phase</th>\n      <th>Molecular Weight</th>\n      <th>#RO5 Violations</th>\n      <th>AlogP</th>\n      <th>Compound Key</th>\n      <th>Smiles</th>\n      <th>Standard Type</th>\n      <th>Standard Relation</th>\n      <th>...</th>\n      <th>Target Organism</th>\n      <th>Target Type</th>\n      <th>Document ChEMBL ID</th>\n      <th>Source ID</th>\n      <th>Source Description</th>\n      <th>Document Journal</th>\n      <th>Document Year</th>\n      <th>Cell ChEMBL ID</th>\n      <th>Properties</th>\n      <th>Action Type</th>\n    </tr>\n  </thead>\n  <tbody>\n    <tr>\n      <th>0</th>\n      <td>CHEMBL205876</td>\n      <td>NaN</td>\n      <td>NaN</td>\n      <td>361.83</td>\n      <td>0.0</td>\n      <td>4.99</td>\n      <td>9</td>\n      <td>O=C(Nc1ccc(Cl)cc1)c1ccccc1Cn1ccc2cccnc21</td>\n      <td>IC50</td>\n      <td>&gt;'</td>\n      <td>...</td>\n      <td>Homo sapiens</td>\n      <td>SINGLE PROTEIN</td>\n      <td>CHEMBL1139022</td>\n      <td>1</td>\n      <td>Scientific Literature</td>\n      <td>Bioorg Med Chem Lett</td>\n      <td>2006.0</td>\n      <td>NaN</td>\n      <td>NaN</td>\n      <td>NaN</td>\n    </tr>\n    <tr>\n      <th>1</th>\n      <td>CHEMBL201090</td>\n      <td>NaN</td>\n      <td>NaN</td>\n      <td>406.39</td>\n      <td>0.0</td>\n      <td>3.39</td>\n      <td>16a</td>\n      <td>COc1ccc2[nH]c3c4c(OC)c(OC)c(OC)cc4c4c(c3c2c1)C...</td>\n      <td>Inhibition</td>\n      <td>='</td>\n      <td>...</td>\n      <td>Homo sapiens</td>\n      <td>SINGLE PROTEIN</td>\n      <td>CHEMBL1149451</td>\n      <td>1</td>\n      <td>Scientific Literature</td>\n      <td>J Med Chem</td>\n      <td>2006.0</td>\n      <td>CHEMBL3308860</td>\n      <td>NaN</td>\n      <td>NaN</td>\n    </tr>\n    <tr>\n      <th>2</th>\n      <td>CHEMBL202196</td>\n      <td>NaN</td>\n      <td>NaN</td>\n      <td>338.37</td>\n      <td>0.0</td>\n      <td>3.89</td>\n      <td>20</td>\n      <td>O=C1NC(=O)C(c2c[nH]c3ccccc23)=C1c1cccc2ccccc12</td>\n      <td>Inhibition</td>\n      <td>='</td>\n      <td>...</td>\n      <td>Homo sapiens</td>\n      <td>SINGLE PROTEIN</td>\n      <td>CHEMBL1149451</td>\n      <td>1</td>\n      <td>Scientific Literature</td>\n      <td>J Med Chem</td>\n      <td>2006.0</td>\n      <td>CHEMBL3308860</td>\n      <td>NaN</td>\n      <td>NaN</td>\n    </tr>\n    <tr>\n      <th>3</th>\n      <td>CHEMBL201463</td>\n      <td>NaN</td>\n      <td>NaN</td>\n      <td>392.41</td>\n      <td>0.0</td>\n      <td>3.07</td>\n      <td>18</td>\n      <td>COc1cc(C2=C(c3c(C)[nH]c4ccccc34)C(=O)NC2=O)cc(...</td>\n      <td>Inhibition</td>\n      <td>='</td>\n      <td>...</td>\n      <td>Homo sapiens</td>\n      <td>SINGLE PROTEIN</td>\n      <td>CHEMBL1149451</td>\n      <td>1</td>\n      <td>Scientific Literature</td>\n      <td>J Med Chem</td>\n      <td>2006.0</td>\n      <td>CHEMBL3308860</td>\n      <td>NaN</td>\n      <td>NaN</td>\n    </tr>\n    <tr>\n      <th>4</th>\n      <td>CHEMBL372944</td>\n      <td>NaN</td>\n      <td>NaN</td>\n      <td>339.35</td>\n      <td>0.0</td>\n      <td>2.28</td>\n      <td>5</td>\n      <td>COc1cc(C2=C(c3ccccc3)C(=O)NC2=O)cc(OC)c1OC</td>\n      <td>Inhibition</td>\n      <td>='</td>\n      <td>...</td>\n      <td>Homo sapiens</td>\n      <td>SINGLE PROTEIN</td>\n      <td>CHEMBL1149451</td>\n      <td>1</td>\n      <td>Scientific Literature</td>\n      <td>J Med Chem</td>\n      <td>2006.0</td>\n      <td>CHEMBL3308860</td>\n      <td>NaN</td>\n      <td>NaN</td>\n    </tr>\n  </tbody>\n</table>\n<p>5 rows × 46 columns</p>\n</div>"
     },
     "execution_count": 31,
     "metadata": {},
     "output_type": "execute_result"
    }
   ],
   "source": [
    "path = '/home/shrestha/python_project/datasets/biopharma_activity.csv'\n",
    "data = pd.read_csv(path , on_bad_lines='skip')\n",
    "# data = pd.read_csv(path , error_bad_lines=False) #IF ABOVE LINE GIVES ERROR UNCOMMENT THIS LINE AND COMMENT OUT ABOVE LINE AND THEN RUN\n",
    "data = data.dropna(subset=['Smiles','Standard Value','Molecular Weight','AlogP','Standard Units'])\n",
    "data.reset_index(drop=True, inplace=True)\n",
    "data.head()"
   ],
   "id": "92787fd6ce16f3e8"
  },
  {
   "cell_type": "code",
   "execution_count": 32,
   "metadata": {
    "collapsed": false,
    "ExecuteTime": {
     "end_time": "2023-09-05T00:06:10.950519738Z",
     "start_time": "2023-09-05T00:06:10.798488999Z"
    }
   },
   "outputs": [
    {
     "name": "stdout",
     "output_type": "stream",
     "text": [
      "['nM' '%' 'hr' 'uM' 'ug.mL-1' \"10'-4No_unit\" 'degrees C' \"10'-3/s\"\n",
      " \"10'5/M/s\" '% ID/g' 'µM' 'equiv']\n"
     ]
    }
   ],
   "source": [
    "unique_units = data['Standard Units'].unique()  #finding different units of solubility present in our data\n",
    "print(unique_units)\n",
    "\n",
    "#we can only use nM, %, uM, ug.mL-1, we drop all other values \n",
    "units_to_drop = ['%', 'hr',  'ug.mL-1', \"10'-4No_unit\", 'degrees C', \"10'-3/s\",\n",
    "                 \"10'5/M/s\", '% ID/g', 'equiv']\n",
    "data = data[~data[\"Standard Units\"].isin(units_to_drop)]\n",
    "data.reset_index(drop=True, inplace=True)\n",
    "data['Standard Value'] = data.apply(lambda row:\n",
    "                                    row['Standard Value'] * 1000 if row['Standard Units'] in ('µM','uM') else row['Standard Value'],axis=1)\n",
    "\n",
    "data[\"Standard Units\"] = 'nM'"
   ],
   "id": "97a12a7cd4bc11c3"
  },
  {
   "cell_type": "code",
   "execution_count": null,
   "metadata": {
    "collapsed": false
   },
   "outputs": [],
   "source": [
    "smiles_list = data['Smiles']\n",
    "SMILES_CHARS = [' ',\n",
    "                '#', '%', '(', ')', '+', '-', '.', '/',\n",
    "                '0', '1', '2', '3', '4', '5', '6', '7', '8', '9',\n",
    "                '=', '@',\n",
    "                'A', 'B', 'C', 'F', 'H', 'I', 'K', 'L', 'M', 'N', 'O', 'P',\n",
    "                'R', 'S', 'T', 'V', 'X', 'Z',\n",
    "                '[', '\\\\', ']',\n",
    "                'a', 'b', 'c', 'e', 'g', 'i', 'l', 'n', 'o', 'p', 'r', 's',\n",
    "                't', 'u']\n",
    "smi2index = dict( (c,i) for i,c in enumerate( SMILES_CHARS ) )\n",
    "index2smi = dict( (i,c) for i,c in enumerate( SMILES_CHARS ) )\n",
    "def smiles_encoder(compound, maxlen=295):\n",
    "    smiles = Chem.MolToSmiles(Chem.MolFromSmiles(compound))\n",
    "    X = np.zeros( ( maxlen, len( SMILES_CHARS ) ) )\n",
    "    for i, c in enumerate( smiles ):\n",
    "        X[i, smi2index[c] ] = 1\n",
    "    return X\n",
    "\n",
    "one_hot_list = []\n",
    "for i in range(len(smiles_list)):\n",
    "    mat=smiles_encoder(smiles_list[i])\n",
    "    one_hot_list.append(mat)"
   ],
   "id": "e176d22b25d1dd68"
  },
  {
   "cell_type": "code",
   "execution_count": 33,
   "metadata": {
    "collapsed": false,
    "ExecuteTime": {
     "end_time": "2023-09-05T00:06:25.927426160Z",
     "start_time": "2023-09-05T00:06:25.899915882Z"
    }
   },
   "outputs": [],
   "source": [
    "X = one_hot_list\n",
    "y = data['Standard Value'].to_numpy()\n",
    "\n",
    "X_train, X_test, y_train, y_test = train_test_split(X, y, test_size=0.2, random_state=42)\n",
    "X_train, X_val, y_train, y_val = train_test_split(X_train, y_train, test_size=0.1, random_state=42)"
   ],
   "id": "ca4b61c4df5e85b4"
  },
  {
   "cell_type": "code",
   "execution_count": 34,
   "metadata": {
    "ExecuteTime": {
     "end_time": "2023-09-05T00:06:31.108966798Z",
     "start_time": "2023-09-05T00:06:29.756968526Z"
    }
   },
   "outputs": [],
   "source": [
    "X_train = np.reshape(np.array(X_train),(11149,295*56))"
   ],
   "id": "3438011a49ef7c62"
  },
  {
   "cell_type": "code",
   "execution_count": 35,
   "metadata": {
    "ExecuteTime": {
     "end_time": "2023-09-05T00:06:31.852123038Z",
     "start_time": "2023-09-05T00:06:31.821320685Z"
    }
   },
   "outputs": [
    {
     "data": {
      "text/plain": "(11149, 16520)"
     },
     "execution_count": 35,
     "metadata": {},
     "output_type": "execute_result"
    }
   ],
   "source": [
    "X_train.shape"
   ],
   "id": "c8a883d9ef72f00b"
  },
  {
   "cell_type": "code",
   "execution_count": 36,
   "metadata": {
    "collapsed": false,
    "ExecuteTime": {
     "end_time": "2023-09-05T00:28:26.890113071Z",
     "start_time": "2023-09-05T00:06:47.500936846Z"
    }
   },
   "outputs": [
    {
     "data": {
      "text/plain": "RandomForestRegressor(random_state=1234)",
      "text/html": "<style>#sk-container-id-1 {color: black;}#sk-container-id-1 pre{padding: 0;}#sk-container-id-1 div.sk-toggleable {background-color: white;}#sk-container-id-1 label.sk-toggleable__label {cursor: pointer;display: block;width: 100%;margin-bottom: 0;padding: 0.3em;box-sizing: border-box;text-align: center;}#sk-container-id-1 label.sk-toggleable__label-arrow:before {content: \"▸\";float: left;margin-right: 0.25em;color: #696969;}#sk-container-id-1 label.sk-toggleable__label-arrow:hover:before {color: black;}#sk-container-id-1 div.sk-estimator:hover label.sk-toggleable__label-arrow:before {color: black;}#sk-container-id-1 div.sk-toggleable__content {max-height: 0;max-width: 0;overflow: hidden;text-align: left;background-color: #f0f8ff;}#sk-container-id-1 div.sk-toggleable__content pre {margin: 0.2em;color: black;border-radius: 0.25em;background-color: #f0f8ff;}#sk-container-id-1 input.sk-toggleable__control:checked~div.sk-toggleable__content {max-height: 200px;max-width: 100%;overflow: auto;}#sk-container-id-1 input.sk-toggleable__control:checked~label.sk-toggleable__label-arrow:before {content: \"▾\";}#sk-container-id-1 div.sk-estimator input.sk-toggleable__control:checked~label.sk-toggleable__label {background-color: #d4ebff;}#sk-container-id-1 div.sk-label input.sk-toggleable__control:checked~label.sk-toggleable__label {background-color: #d4ebff;}#sk-container-id-1 input.sk-hidden--visually {border: 0;clip: rect(1px 1px 1px 1px);clip: rect(1px, 1px, 1px, 1px);height: 1px;margin: -1px;overflow: hidden;padding: 0;position: absolute;width: 1px;}#sk-container-id-1 div.sk-estimator {font-family: monospace;background-color: #f0f8ff;border: 1px dotted black;border-radius: 0.25em;box-sizing: border-box;margin-bottom: 0.5em;}#sk-container-id-1 div.sk-estimator:hover {background-color: #d4ebff;}#sk-container-id-1 div.sk-parallel-item::after {content: \"\";width: 100%;border-bottom: 1px solid gray;flex-grow: 1;}#sk-container-id-1 div.sk-label:hover label.sk-toggleable__label {background-color: #d4ebff;}#sk-container-id-1 div.sk-serial::before {content: \"\";position: absolute;border-left: 1px solid gray;box-sizing: border-box;top: 0;bottom: 0;left: 50%;z-index: 0;}#sk-container-id-1 div.sk-serial {display: flex;flex-direction: column;align-items: center;background-color: white;padding-right: 0.2em;padding-left: 0.2em;position: relative;}#sk-container-id-1 div.sk-item {position: relative;z-index: 1;}#sk-container-id-1 div.sk-parallel {display: flex;align-items: stretch;justify-content: center;background-color: white;position: relative;}#sk-container-id-1 div.sk-item::before, #sk-container-id-1 div.sk-parallel-item::before {content: \"\";position: absolute;border-left: 1px solid gray;box-sizing: border-box;top: 0;bottom: 0;left: 50%;z-index: -1;}#sk-container-id-1 div.sk-parallel-item {display: flex;flex-direction: column;z-index: 1;position: relative;background-color: white;}#sk-container-id-1 div.sk-parallel-item:first-child::after {align-self: flex-end;width: 50%;}#sk-container-id-1 div.sk-parallel-item:last-child::after {align-self: flex-start;width: 50%;}#sk-container-id-1 div.sk-parallel-item:only-child::after {width: 0;}#sk-container-id-1 div.sk-dashed-wrapped {border: 1px dashed gray;margin: 0 0.4em 0.5em 0.4em;box-sizing: border-box;padding-bottom: 0.4em;background-color: white;}#sk-container-id-1 div.sk-label label {font-family: monospace;font-weight: bold;display: inline-block;line-height: 1.2em;}#sk-container-id-1 div.sk-label-container {text-align: center;}#sk-container-id-1 div.sk-container {/* jupyter's `normalize.less` sets `[hidden] { display: none; }` but bootstrap.min.css set `[hidden] { display: none !important; }` so we also need the `!important` here to be able to override the default hidden behavior on the sphinx rendered scikit-learn.org. See: https://github.com/scikit-learn/scikit-learn/issues/21755 */display: inline-block !important;position: relative;}#sk-container-id-1 div.sk-text-repr-fallback {display: none;}</style><div id=\"sk-container-id-1\" class=\"sk-top-container\"><div class=\"sk-text-repr-fallback\"><pre>RandomForestRegressor(random_state=1234)</pre><b>In a Jupyter environment, please rerun this cell to show the HTML representation or trust the notebook. <br />On GitHub, the HTML representation is unable to render, please try loading this page with nbviewer.org.</b></div><div class=\"sk-container\" hidden><div class=\"sk-item\"><div class=\"sk-estimator sk-toggleable\"><input class=\"sk-toggleable__control sk-hidden--visually\" id=\"sk-estimator-id-1\" type=\"checkbox\" checked><label for=\"sk-estimator-id-1\" class=\"sk-toggleable__label sk-toggleable__label-arrow\">RandomForestRegressor</label><div class=\"sk-toggleable__content\"><pre>RandomForestRegressor(random_state=1234)</pre></div></div></div></div></div>"
     },
     "execution_count": 36,
     "metadata": {},
     "output_type": "execute_result"
    }
   ],
   "source": [
    "regressor = RandomForestRegressor(random_state=1234)\n",
    "regressor.fit(X_train,y_train)"
   ],
   "id": "97cd7ce4c33c4ee7"
  },
  {
   "cell_type": "code",
   "execution_count": 37,
   "metadata": {
    "ExecuteTime": {
     "end_time": "2023-09-05T00:28:29.580469190Z",
     "start_time": "2023-09-05T00:28:26.901212836Z"
    }
   },
   "outputs": [
    {
     "name": "stdout",
     "output_type": "stream",
     "text": [
      "Mean Absolute Error: 8370.439524952775\n",
      "Mean Squared Error: 2255624453.0543413\n",
      "Root Mean Squared Error: 47493.41483884204\n"
     ]
    }
   ],
   "source": [
    "# With our optimal settings found, we can use the optimal parameter setting to make predictions\n",
    "predictions = regressor.predict(np.reshape(np.array(X_test),(3097,295*56)))\n",
    "\n",
    "# View the scoring results of these predictions and review performance\n",
    "\n",
    "print('Mean Absolute Error:', metrics.mean_absolute_error(y_test, predictions))\n",
    "print('Mean Squared Error:', metrics.mean_squared_error(y_test ,predictions))\n",
    "print('Root Mean Squared Error:', np.sqrt(metrics.mean_squared_error(y_test, predictions)))"
   ],
   "id": "af802ec44961c6fb"
  },
  {
   "cell_type": "code",
   "execution_count": null,
   "metadata": {},
   "outputs": [],
   "source": [],
   "id": "bc5f40570622108c"
  },
  {
   "cell_type": "code",
   "execution_count": null,
   "metadata": {},
   "outputs": [],
   "source": [],
   "id": "112c24858ca1a378"
  },
  {
   "cell_type": "code",
   "execution_count": null,
   "metadata": {},
   "outputs": [],
   "source": [],
   "id": "7c83229a50e52ab1"
  }
 ],
 "metadata": {
  "kernelspec": {
   "display_name": "Python 3",
   "language": "python",
   "name": "python3"
  },
  "language_info": {
   "codemirror_mode": {
    "name": "ipython",
    "version": 3
   },
   "file_extension": ".py",
   "mimetype": "text/x-python",
   "name": "python",
   "nbconvert_exporter": "python",
   "pygments_lexer": "ipython3",
   "version": "3.6.9"
  }
 },
 "nbformat": 4,
 "nbformat_minor": 5
}
